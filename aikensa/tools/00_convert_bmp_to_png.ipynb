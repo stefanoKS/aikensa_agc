{
 "cells": [
  {
   "cell_type": "code",
   "execution_count": null,
   "id": "ddb903e4",
   "metadata": {},
   "outputs": [],
   "source": [
    "#Convert all bmp file in dir into a png images"
   ]
  },
  {
   "cell_type": "code",
   "execution_count": 4,
   "id": "d7d2ef1f",
   "metadata": {},
   "outputs": [],
   "source": [
    "import os\n",
    "import sys\n",
    "import cv2\n"
   ]
  },
  {
   "cell_type": "code",
   "execution_count": 5,
   "id": "71a1858c",
   "metadata": {},
   "outputs": [],
   "source": [
    "def convert_bmp_to_png(directory):\n",
    "    \"\"\"\n",
    "    Convert all BMP files in the specified directory to PNG format.\n",
    "    \n",
    "    :param directory: Directory containing BMP files.\n",
    "    \"\"\"\n",
    "    for filename in os.listdir(directory):\n",
    "        if filename.lower().endswith('.bmp'):\n",
    "            bmp_path = os.path.join(directory, filename)\n",
    "            png_path = os.path.join(directory, filename[:-4] + '.png')\n",
    "            \n",
    "            # Read the BMP image\n",
    "            img = cv2.imread(bmp_path)\n",
    "            if img is not None:\n",
    "                # Save as PNG\n",
    "                cv2.imwrite(png_path, img)\n",
    "                print(f\"Converted {bmp_path} to {png_path}\")\n",
    "            else:\n",
    "                print(f\"Failed to read {bmp_path}\")"
   ]
  },
  {
   "cell_type": "code",
   "execution_count": 8,
   "id": "0ed35165",
   "metadata": {},
   "outputs": [],
   "source": [
    "targe_dir = \"../debug_images/\""
   ]
  },
  {
   "cell_type": "code",
   "execution_count": 9,
   "id": "63c62af1",
   "metadata": {},
   "outputs": [
    {
     "name": "stdout",
     "output_type": "stream",
     "text": [
      "Converted ../debug_images/03.bmp to ../debug_images/03.png\n",
      "Converted ../debug_images/01.bmp to ../debug_images/01.png\n",
      "Converted ../debug_images/02.bmp to ../debug_images/02.png\n"
     ]
    }
   ],
   "source": [
    "convert_bmp_to_png(targe_dir)"
   ]
  },
  {
   "cell_type": "code",
   "execution_count": null,
   "id": "f4ee1008",
   "metadata": {},
   "outputs": [],
   "source": []
  }
 ],
 "metadata": {
  "kernelspec": {
   "display_name": "aikensaSealHood",
   "language": "python",
   "name": "python3"
  },
  "language_info": {
   "codemirror_mode": {
    "name": "ipython",
    "version": 3
   },
   "file_extension": ".py",
   "mimetype": "text/x-python",
   "name": "python",
   "nbconvert_exporter": "python",
   "pygments_lexer": "ipython3",
   "version": "3.11.13"
  }
 },
 "nbformat": 4,
 "nbformat_minor": 5
}
